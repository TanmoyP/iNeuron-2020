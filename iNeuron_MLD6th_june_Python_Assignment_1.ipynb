{
  "nbformat": 4,
  "nbformat_minor": 0,
  "metadata": {
    "colab": {
      "name": "iNeuron-MLD6th june Python Assignment 1.ipynb",
      "provenance": [],
      "collapsed_sections": [],
      "authorship_tag": "ABX9TyP2W1uHGT/OCiELRQE6lKUK",
      "include_colab_link": true
    },
    "kernelspec": {
      "name": "python3",
      "display_name": "Python 3"
    }
  },
  "cells": [
    {
      "cell_type": "markdown",
      "metadata": {
        "id": "view-in-github",
        "colab_type": "text"
      },
      "source": [
        "<a href=\"https://colab.research.google.com/github/TanmoyP/iNeuron-2020/blob/master/iNeuron_MLD6th_june_Python_Assignment_1.ipynb\" target=\"_parent\"><img src=\"https://colab.research.google.com/assets/colab-badge.svg\" alt=\"Open In Colab\"/></a>"
      ]
    },
    {
      "cell_type": "markdown",
      "metadata": {
        "id": "B-7XDJjHP8Uh",
        "colab_type": "text"
      },
      "source": [
        "1. Write a program whoch will find all such numbers which are divisible by 7 but are not a multiple of 5, between 2000 and 3200 (both included). The numbers obtained should be printed in a comma-separated sequence on a single line"
      ]
    },
    {
      "cell_type": "code",
      "metadata": {
        "id": "jocfoyIzMrO-",
        "colab_type": "code",
        "colab": {}
      },
      "source": [
        "nums = []\n",
        "for num in range(2000, 3201, 1):\n",
        "  if num % 7 == 0 and num % 5 != 0:\n",
        "    nums.append(str(num))\n"
      ],
      "execution_count": 16,
      "outputs": []
    },
    {
      "cell_type": "markdown",
      "metadata": {
        "id": "E2BARoHrQnLn",
        "colab_type": "text"
      },
      "source": [
        "*Results*"
      ]
    },
    {
      "cell_type": "code",
      "metadata": {
        "id": "BhAyZJ3qOqxn",
        "colab_type": "code",
        "colab": {
          "base_uri": "https://localhost:8080/",
          "height": 54
        },
        "outputId": "140e30b5-5803-46f8-9313-2c80cf4663b2"
      },
      "source": [
        "print(','.join(nums)) #note that join only works for string lists"
      ],
      "execution_count": 19,
      "outputs": [
        {
          "output_type": "stream",
          "text": [
            "2002,2009,2016,2023,2037,2044,2051,2058,2072,2079,2086,2093,2107,2114,2121,2128,2142,2149,2156,2163,2177,2184,2191,2198,2212,2219,2226,2233,2247,2254,2261,2268,2282,2289,2296,2303,2317,2324,2331,2338,2352,2359,2366,2373,2387,2394,2401,2408,2422,2429,2436,2443,2457,2464,2471,2478,2492,2499,2506,2513,2527,2534,2541,2548,2562,2569,2576,2583,2597,2604,2611,2618,2632,2639,2646,2653,2667,2674,2681,2688,2702,2709,2716,2723,2737,2744,2751,2758,2772,2779,2786,2793,2807,2814,2821,2828,2842,2849,2856,2863,2877,2884,2891,2898,2912,2919,2926,2933,2947,2954,2961,2968,2982,2989,2996,3003,3017,3024,3031,3038,3052,3059,3066,3073,3087,3094,3101,3108,3122,3129,3136,3143,3157,3164,3171,3178,3192,3199\n"
          ],
          "name": "stdout"
        }
      ]
    },
    {
      "cell_type": "markdown",
      "metadata": {
        "id": "G3ppRCIyULW5",
        "colab_type": "text"
      },
      "source": [
        "2. Write a Python program to accept the user's first name nad last name and then getting them printed in the reverse order with a space between first name and last name"
      ]
    },
    {
      "cell_type": "code",
      "metadata": {
        "id": "RGpB35KnUldp",
        "colab_type": "code",
        "colab": {
          "base_uri": "https://localhost:8080/",
          "height": 52
        },
        "outputId": "87dc4f24-b6db-4f0a-e233-33341c9d6f60"
      },
      "source": [
        "first = input(\"Enter your first name: \")\n",
        "last = input(\"Eneter your last name: \")\n",
        "full = first[::-1] + \" \" + last[::-1] "
      ],
      "execution_count": 24,
      "outputs": [
        {
          "output_type": "stream",
          "text": [
            "Enter your first name: tanmoy\n",
            "Eneter your last name: porel\n"
          ],
          "name": "stdout"
        }
      ]
    },
    {
      "cell_type": "markdown",
      "metadata": {
        "id": "Uksn8XHbWBeF",
        "colab_type": "text"
      },
      "source": [
        "*Results*"
      ]
    },
    {
      "cell_type": "code",
      "metadata": {
        "id": "ArY_OodlWEMg",
        "colab_type": "code",
        "colab": {
          "base_uri": "https://localhost:8080/",
          "height": 35
        },
        "outputId": "3b5035b6-7f92-4cad-bc19-5b6b34712e4f"
      },
      "source": [
        "full"
      ],
      "execution_count": 22,
      "outputs": [
        {
          "output_type": "execute_result",
          "data": {
            "application/vnd.google.colaboratory.intrinsic": {
              "type": "string"
            },
            "text/plain": [
              "'puddaw lupeep'"
            ]
          },
          "metadata": {
            "tags": []
          },
          "execution_count": 22
        }
      ]
    },
    {
      "cell_type": "markdown",
      "metadata": {
        "id": "4bU1kXH3ZO0t",
        "colab_type": "text"
      },
      "source": [
        "3. Write a python program to find the volume of a sphere with diameter 12 cm"
      ]
    },
    {
      "cell_type": "code",
      "metadata": {
        "id": "VELaIPz0ZcZC",
        "colab_type": "code",
        "colab": {}
      },
      "source": [
        "import math\n",
        "def volume(radius):\n",
        "  return (4/3)*(radius**3)*math.pi"
      ],
      "execution_count": 31,
      "outputs": []
    },
    {
      "cell_type": "markdown",
      "metadata": {
        "id": "eKbID3SxZ58j",
        "colab_type": "text"
      },
      "source": [
        "*Results*"
      ]
    },
    {
      "cell_type": "code",
      "metadata": {
        "id": "YonV5aLFZ9Qv",
        "colab_type": "code",
        "colab": {
          "base_uri": "https://localhost:8080/",
          "height": 34
        },
        "outputId": "30aa7c87-c000-4120-cf5e-eb4f25c5da2e"
      },
      "source": [
        "print(volume(12))"
      ],
      "execution_count": 32,
      "outputs": [
        {
          "output_type": "stream",
          "text": [
            "7238.229473870883\n"
          ],
          "name": "stdout"
        }
      ]
    }
  ]
}