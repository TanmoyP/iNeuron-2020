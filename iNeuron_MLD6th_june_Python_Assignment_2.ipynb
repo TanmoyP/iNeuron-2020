{
  "nbformat": 4,
  "nbformat_minor": 0,
  "metadata": {
    "colab": {
      "name": "iNeuron-MLD6th june Python Assignment 2.ipynb",
      "provenance": [],
      "collapsed_sections": [],
      "authorship_tag": "ABX9TyMt5mRWxdUPHJha6dA25+9R",
      "include_colab_link": true
    },
    "kernelspec": {
      "name": "python3",
      "display_name": "Python 3"
    }
  },
  "cells": [
    {
      "cell_type": "markdown",
      "metadata": {
        "id": "view-in-github",
        "colab_type": "text"
      },
      "source": [
        "<a href=\"https://colab.research.google.com/github/TanmoyP/iNeuron-2020/blob/master/iNeuron_MLD6th_june_Python_Assignment_2.ipynb\" target=\"_parent\"><img src=\"https://colab.research.google.com/assets/colab-badge.svg\" alt=\"Open In Colab\"/></a>"
      ]
    },
    {
      "cell_type": "markdown",
      "metadata": {
        "id": "4chaQl1EjUPf",
        "colab_type": "text"
      },
      "source": [
        "1. Pattern priniting"
      ]
    },
    {
      "cell_type": "code",
      "metadata": {
        "id": "LCKvoBpYg0yK",
        "colab_type": "code",
        "colab": {
          "base_uri": "https://localhost:8080/",
          "height": 176
        },
        "outputId": "f1218168-39d1-4236-a254-1e7291b9a6e0"
      },
      "source": [
        "for i in range(0,5):\n",
        "  for j in range(0,i+1):\n",
        "    print(\"*\", end=\" \")\n",
        "  print(\"\\r\") #for next row instead of next paragraph executed by \"\\n\"\n",
        "\n",
        "for i in range(4,0,-1):\n",
        "  for j in range(0,i):\n",
        "    print(\"*\", end=\" \")\n",
        "  print(\"\\r\") #for next row instead of next paragraph executed by \"\\n\""
      ],
      "execution_count": 14,
      "outputs": [
        {
          "output_type": "stream",
          "text": [
            "* \r\n",
            "* * \r\n",
            "* * * \r\n",
            "* * * * \r\n",
            "* * * * * \r\n",
            "* * * * \r\n",
            "* * * \r\n",
            "* * \r\n",
            "* \r\n"
          ],
          "name": "stdout"
        }
      ]
    },
    {
      "cell_type": "markdown",
      "metadata": {
        "id": "mcrszaB9jZnh",
        "colab_type": "text"
      },
      "source": [
        "2. Word reversal"
      ]
    },
    {
      "cell_type": "code",
      "metadata": {
        "id": "zqxtAu0Kjg4i",
        "colab_type": "code",
        "colab": {
          "base_uri": "https://localhost:8080/",
          "height": 34
        },
        "outputId": "aae4be6a-3f01-4031-cba1-c8411ae6e8af"
      },
      "source": [
        "def rev(text):\n",
        "  print(text[::-1])\n",
        "\n",
        "rev(\"ineuron\")"
      ],
      "execution_count": 17,
      "outputs": [
        {
          "output_type": "stream",
          "text": [
            "norueni\n"
          ],
          "name": "stdout"
        }
      ]
    },
    {
      "cell_type": "code",
      "metadata": {
        "id": "J8SW9u24jvzS",
        "colab_type": "code",
        "colab": {
          "base_uri": "https://localhost:8080/",
          "height": 34
        },
        "outputId": "a05c29a0-468a-4fcc-c78c-9fceeb008272"
      },
      "source": [
        ""
      ],
      "execution_count": 16,
      "outputs": [
        {
          "output_type": "stream",
          "text": [
            "norueni\n"
          ],
          "name": "stdout"
        }
      ]
    }
  ]
}